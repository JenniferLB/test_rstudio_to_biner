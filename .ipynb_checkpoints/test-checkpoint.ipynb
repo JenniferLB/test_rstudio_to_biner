{
  "cells": [
    {
      "cell_type": "markdown",
      "metadata": {},
      "source": [
        "# Test quarto to binder\n",
        "\n",
        "## Quarto\n",
        "\n",
        "Quarto enables you to weave together content and executable code into a\n",
        "finished document. To learn more about Quarto see <https://quarto.org>.\n",
        "\n",
        "## Running Code\n",
        "\n",
        "When you click the **Render** button a document will be generated that\n",
        "includes both content and the output of embedded code. You can embed\n",
        "code like this:"
      ],
      "id": "5971b0cb-a0ee-402b-80a3-0ccabd017616"
    },
    {
      "cell_type": "code",
      "execution_count": 1,
      "metadata": {},
      "outputs": [
        {
          "output_type": "display_data",
          "metadata": {},
          "data": {
            "text/html": [
              "2"
            ]
          }
        }
      ],
      "source": [
        "1 + 1"
      ],
      "id": "17acae2b"
    },
    {
      "cell_type": "markdown",
      "metadata": {},
      "source": [
        "You can add options to executable code like this"
      ],
      "id": "55f874f3-f15b-4067-92f6-76b16bb4e7a4"
    },
    {
      "cell_type": "code",
      "execution_count": 2,
      "metadata": {},
      "outputs": [
        {
          "output_type": "display_data",
          "metadata": {},
          "data": {
            "text/html": [
              "4"
            ]
          }
        }
      ],
      "source": [],
      "id": "6ea3212d"
    },
    {
      "cell_type": "markdown",
      "metadata": {},
      "source": [
        "The `echo: false` option disables the printing of code (only output is\n",
        "displayed)."
      ],
      "id": "a4e3b0fd-9187-4d70-9ae7-ed7276482ee3"
    }
  ],
  "nbformat": 4,
  "nbformat_minor": 5,
  "metadata": {
    "kernelspec": {
      "name": "ir",
      "display_name": "R",
      "language": "R",
      "path": "C:"
    },
    "language_info": {
      "name": "R",
      "codemirror_mode": "r",
      "file_extension": ".r",
      "mimetype": "text/x-r-source",
      "pygments_lexer": "r",
      "version": "4.3.0"
    }
  }
}