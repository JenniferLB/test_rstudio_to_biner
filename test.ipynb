{
 "cells": [
  {
   "cell_type": "markdown",
   "id": "5971b0cb-a0ee-402b-80a3-0ccabd017616",
   "metadata": {},
   "source": [
    "# Test quarto to binder\n",
    "\n",
    "## Quarto\n",
    "\n",
    "Quarto enables you to weave together content and executable code into a\n",
    "finished document. To learn more about Quarto see <https://quarto.org>.\n",
    "\n",
    "## Running Code\n",
    "\n",
    "When you click the **Render** button a document will be generated that\n",
    "includes both content and the output of embedded code. You can embed\n",
    "code like this:"
   ]
  },
  {
   "cell_type": "code",
   "execution_count": 1,
   "id": "17acae2b",
   "metadata": {},
   "outputs": [
    {
     "data": {
      "text/html": [
       "2"
      ],
      "text/latex": [
       "2"
      ],
      "text/markdown": [
       "2"
      ],
      "text/plain": [
       "[1] 2"
      ]
     },
     "metadata": {},
     "output_type": "display_data"
    }
   ],
   "source": [
    "1 + 1"
   ]
  },
  {
   "cell_type": "markdown",
   "id": "55f874f3-f15b-4067-92f6-76b16bb4e7a4",
   "metadata": {},
   "source": [
    "You can add options to executable code like this"
   ]
  },
  {
   "cell_type": "code",
   "execution_count": null,
   "id": "6ea3212d",
   "metadata": {},
   "outputs": [],
   "source": []
  },
  {
   "cell_type": "markdown",
   "id": "a4e3b0fd-9187-4d70-9ae7-ed7276482ee3",
   "metadata": {},
   "source": [
    "The `echo: false` option disables the printing of code (only output is\n",
    "displayed)."
   ]
  }
 ],
 "metadata": {
  "kernelspec": {
   "display_name": "R",
   "language": "R",
   "name": "ir"
  },
  "language_info": {
   "codemirror_mode": "r",
   "file_extension": ".r",
   "mimetype": "text/x-r-source",
   "name": "R",
   "pygments_lexer": "r",
   "version": "4.3.0"
  }
 },
 "nbformat": 4,
 "nbformat_minor": 5
}
